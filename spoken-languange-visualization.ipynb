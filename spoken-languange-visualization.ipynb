{
 "cells": [
  {
   "cell_type": "markdown",
   "metadata": {},
   "source": [
    "Notebook ini dibangun menggunakan kaggle kernel, karena data yang sangat besar (15GB) dan resource belum mendukung juga kaggle kernel tidak cukup menangani semua data\n",
    "\n",
    "Dalam notebook ini hanya memvisualisasi 1000 data pertama, belum sampai pada tahap modelling."
   ]
  },
  {
   "cell_type": "code",
   "execution_count": 21,
   "metadata": {},
   "outputs": [
    {
     "name": "stdout",
     "output_type": "stream",
     "text": [
      "Collecting python_speech_features\n",
      "  Downloading https://files.pythonhosted.org/packages/ff/d1/94c59e20a2631985fbd2124c45177abaa9e0a4eee8ba8a305aa26fc02a8e/python_speech_features-0.6.tar.gz\n",
      "Building wheels for collected packages: python-speech-features\n",
      "  Building wheel for python-speech-features (setup.py) ... \u001b[?25ldone\n",
      "\u001b[?25h  Stored in directory: /Users/fahmisalman/Library/Caches/pip/wheels/3c/42/7c/f60e9d1b40015cd69b213ad90f7c18a9264cd745b9888134be\n",
      "Successfully built python-speech-features\n",
      "Installing collected packages: python-speech-features\n",
      "Successfully installed python-speech-features-0.6\n",
      "\u001b[33mYou are using pip version 19.0.1, however version 19.2.1 is available.\n",
      "You should consider upgrading via the 'pip install --upgrade pip' command.\u001b[0m\n"
     ]
    }
   ],
   "source": [
    "!pip install python_speech_features"
   ]
  },
  {
   "cell_type": "code",
   "execution_count": 1,
   "metadata": {},
   "outputs": [],
   "source": [
    "import os\n",
    "import numpy as np\n",
    "import pandas as pd\n",
    "import soundfile as sf\n",
    "import scipy.signal as signal\n",
    "import matplotlib.pyplot as plt"
   ]
  },
  {
   "cell_type": "code",
   "execution_count": 2,
   "metadata": {
    "_cell_guid": "79c7e3d0-c299-4dcb-8224-4455121ee9b0",
    "_uuid": "d629ff2d2480ee46fbb7e2d37f6b5fab8052498a"
   },
   "outputs": [],
   "source": [
    "train_path = 'dataset/train/'\n",
    "test_path = 'dataset/test/'"
   ]
  },
  {
   "cell_type": "code",
   "execution_count": 3,
   "metadata": {},
   "outputs": [],
   "source": [
    "filename = 'de_f_63f5b79c76cf5a1a4bbd1c40f54b166e.fragment1.flac'"
   ]
  },
  {
   "cell_type": "code",
   "execution_count": 4,
   "metadata": {},
   "outputs": [],
   "source": [
    "data, samplerate = sf.read(train_path+filename)"
   ]
  },
  {
   "cell_type": "code",
   "execution_count": 14,
   "metadata": {},
   "outputs": [
    {
     "data": {
      "text/plain": [
       "220500"
      ]
     },
     "execution_count": 14,
     "metadata": {},
     "output_type": "execute_result"
    }
   ],
   "source": [
    "data\n",
    "len(data)"
   ]
  },
  {
   "cell_type": "code",
   "execution_count": 15,
   "metadata": {},
   "outputs": [
    {
     "data": {
      "text/plain": [
       "22050"
      ]
     },
     "execution_count": 15,
     "metadata": {},
     "output_type": "execute_result"
    }
   ],
   "source": [
    "samplerate"
   ]
  },
  {
   "cell_type": "code",
   "execution_count": 22,
   "metadata": {},
   "outputs": [],
   "source": [
    "import librosa\n",
    "from python_speech_features import mfcc"
   ]
  },
  {
   "cell_type": "code",
   "execution_count": 32,
   "metadata": {},
   "outputs": [
    {
     "name": "stdout",
     "output_type": "stream",
     "text": [
      "[[0.03320312 0.05078125 0.06201172 0.05517578 0.0390625  0.06201172\n",
      "  0.19677734 0.34619141 0.50146484 0.59667969 0.56982422 0.51123047\n",
      "  0.36181641 0.23486328 0.13330078 0.09521484 0.16943359 0.23388672\n",
      "  0.23828125 0.1953125  0.15625    0.10107422 0.10644531 0.11669922\n",
      "  0.09619141 0.09667969 0.08984375 0.07666016 0.06445312 0.05859375\n",
      "  0.12353516 0.24658203 0.37841797 0.52392578 0.59912109 0.60546875\n",
      "  0.52734375 0.44775391 0.38085938 0.34472656 0.35791016 0.3203125\n",
      "  0.26171875 0.18652344 0.14257812 0.15771484 0.18261719 0.22216797\n",
      "  0.2578125  0.27148438 0.27734375 0.28173828 0.29101562 0.29785156\n",
      "  0.29980469 0.28955078 0.26855469 0.26513672 0.25927734 0.23388672\n",
      "  0.21386719 0.16113281 0.11962891 0.09082031 0.05664062 0.05517578\n",
      "  0.09130859 0.14013672 0.20654297 0.21484375 0.17089844 0.18212891\n",
      "  0.19628906 0.26074219 0.34179688 0.36816406 0.37304688 0.31640625\n",
      "  0.25244141 0.18115234 0.10791016 0.08447266 0.06298828 0.04394531\n",
      "  0.03417969 0.02783203 0.02539062 0.02490234 0.02636719 0.03173828\n",
      "  0.03271484 0.03173828 0.03076172 0.02783203 0.03125    0.03466797\n",
      "  0.04638672 0.05029297 0.05371094 0.05810547 0.05175781 0.04736328\n",
      "  0.04150391 0.03662109 0.03662109 0.04736328 0.0625     0.08398438\n",
      "  0.08642578 0.07275391 0.0546875  0.03173828 0.02294922 0.02783203\n",
      "  0.02685547 0.02685547 0.04589844 0.04882812 0.05322266 0.05517578\n",
      "  0.03466797 0.02880859 0.02441406 0.02636719 0.02832031 0.02636719\n",
      "  0.02636719 0.02148438 0.01953125 0.02001953 0.02001953 0.02001953\n",
      "  0.02001953 0.01953125 0.02001953 0.02197266 0.03027344 0.04199219\n",
      "  0.04736328 0.04785156 0.04150391 0.04150391 0.046875   0.05615234\n",
      "  0.06201172 0.05371094 0.04199219 0.03027344 0.05566406 0.12304688\n",
      "  0.20800781 0.30078125 0.34814453 0.32275391 0.24658203 0.17236328\n",
      "  0.11523438 0.08740234 0.09033203 0.08056641 0.06787109 0.05566406\n",
      "  0.04443359 0.04296875 0.05566406 0.06542969 0.09570312 0.11132812\n",
      "  0.1015625  0.09667969 0.07861328 0.0625     0.11132812 0.23779297\n",
      "  0.36914062 0.49511719 0.53564453 0.48193359 0.37158203 0.24414062\n",
      "  0.1484375  0.11181641 0.14648438 0.21484375 0.27783203 0.26025391\n",
      "  0.19726562 0.13574219 0.06738281 0.04296875 0.07714844 0.10791016\n",
      "  0.15966797 0.20898438 0.20654297 0.1796875  0.13769531 0.09716797\n",
      "  0.07275391 0.08056641 0.12890625 0.14160156 0.13769531 0.125\n",
      "  0.07373047 0.05566406 0.05664062 0.05126953 0.04589844 0.04882812\n",
      "  0.04638672 0.05517578 0.06347656 0.06787109 0.08154297 0.08105469\n",
      "  0.09716797 0.10839844 0.11523438 0.12695312 0.13330078 0.15136719\n",
      "  0.16015625 0.17431641 0.17382812 0.16259766 0.16015625 0.15283203\n",
      "  0.15380859 0.14550781 0.13964844 0.14013672 0.14306641 0.13671875\n",
      "  0.11132812 0.1171875  0.15722656 0.23779297 0.34521484 0.42041016\n",
      "  0.40527344 0.30908203 0.20458984 0.10107422 0.05273438 0.06494141\n",
      "  0.06835938 0.125      0.22705078 0.36865234 0.51513672 0.62939453\n",
      "  0.66259766 0.54833984 0.41845703 0.25976562 0.13232422 0.10351562\n",
      "  0.08642578 0.07666016 0.06689453 0.06787109 0.07275391 0.06884766\n",
      "  0.06298828 0.06152344 0.06152344 0.0625     0.06201172 0.06054688\n",
      "  0.0625     0.10107422 0.15136719 0.18945312 0.19677734 0.16357422\n",
      "  0.12695312 0.09570312 0.07666016 0.06347656 0.04394531 0.02929688\n",
      "  0.02587891 0.02636719 0.03173828 0.03271484 0.03125    0.04248047\n",
      "  0.06738281 0.06591797 0.06591797 0.05371094 0.02636719 0.02587891\n",
      "  0.02587891 0.02978516 0.04492188 0.06054688 0.0703125  0.07910156\n",
      "  0.08740234 0.08837891 0.15136719 0.27099609 0.3203125  0.36181641\n",
      "  0.33300781 0.24267578 0.18701172 0.13330078 0.09228516 0.04931641\n",
      "  0.02783203 0.02294922 0.02001953 0.02001953 0.02099609 0.03076172\n",
      "  0.04248047 0.06689453 0.12939453 0.19580078 0.24365234 0.23583984\n",
      "  0.22802734 0.16699219 0.12451172 0.12548828 0.08886719 0.08886719\n",
      "  0.08349609 0.07910156 0.11376953 0.21533203 0.35351562 0.43554688\n",
      "  0.47558594 0.43798828 0.34863281 0.265625   0.17333984 0.09765625\n",
      "  0.04052734 0.03955078 0.06689453 0.09326172 0.12304688 0.13720703\n",
      "  0.12353516 0.11767578 0.10546875 0.09960938 0.10107422 0.10302734\n",
      "  0.10253906 0.15136719 0.14160156 0.12060547 0.10058594 0.03222656\n",
      "  0.02734375 0.02832031 0.02832031 0.02783203 0.02490234 0.02490234\n",
      "  0.02587891 0.03076172 0.046875   0.04248047 0.04199219 0.03857422\n",
      "  0.0234375  0.0234375  0.02392578 0.02246094 0.0234375  0.02294922\n",
      "  0.02392578 0.0234375  0.02148438 0.02050781 0.03125    0.10693359\n",
      "  0.1875     0.25       0.24121094 0.16503906 0.08544922 0.02246094\n",
      "  0.02050781 0.04345703 0.06689453 0.07763672 0.07861328 0.06103516\n",
      "  0.05761719 0.06201172 0.06933594 0.06933594 0.06054688 0.05761719\n",
      "  0.05517578 0.05761719 0.05712891 0.04931641 0.04394531 0.03955078\n",
      "  0.03125    0.03125    0.03613281 0.03759766 0.04199219 0.04150391\n",
      "  0.05664062 0.10888672 0.24560547 0.390625   0.484375   0.45996094\n",
      "  0.31738281 0.17236328 0.06591797 0.04003906 0.04248047 0.03955078\n",
      "  0.02978516 0.04101562 0.04541016 0.04931641 0.04345703]] 431\n"
     ]
    }
   ],
   "source": [
    "a = librosa.feature.zero_crossing_rate(data)\n",
    "print(a, len(a[0]))"
   ]
  },
  {
   "cell_type": "code",
   "execution_count": 7,
   "metadata": {},
   "outputs": [
    {
     "data": {
      "text/plain": [
       "Text(0.5,0,'Time [sec]')"
      ]
     },
     "execution_count": 7,
     "metadata": {},
     "output_type": "execute_result"
    },
    {
     "data": {
      "image/png": "[encoded data removed]",
      "text/plain": [
       "<Figure size 432x288 with 1 Axes>"
      ]
     },
     "metadata": {
      "needs_background": "light"
     },
     "output_type": "display_data"
    }
   ],
   "source": [
    "freq, time, Sxx = signal.spectrogram(data, samplerate, scaling='spectrum')\n",
    "plt.pcolormesh(time, freq, Sxx)\n",
    "\n",
    "# add axis labels\n",
    "plt.ylabel('Frequency [Hz]')\n",
    "plt.xlabel('Time [sec]')"
   ]
  },
  {
   "cell_type": "code",
   "execution_count": null,
   "metadata": {},
   "outputs": [],
   "source": [
    "Pxx, freqs, bins, im = plt.specgram(data, Fs=samplerate)\n",
    "\n",
    "# add axis labels\n",
    "plt.ylabel('Frequency [Hz]')\n",
    "plt.xlabel('Time [sec]')"
   ]
  },
  {
   "cell_type": "code",
   "execution_count": null,
   "metadata": {},
   "outputs": [],
   "source": [
    "data"
   ]
  },
  {
   "cell_type": "code",
   "execution_count": null,
   "metadata": {},
   "outputs": [],
   "source": [
    "plt.plot(data)"
   ]
  },
  {
   "cell_type": "markdown",
   "metadata": {},
   "source": [
    "Karena resource pada kaggle kernel tidak cukup, maka hanya digunakan 1000 batch data"
   ]
  },
  {
   "cell_type": "code",
   "execution_count": 4,
   "metadata": {},
   "outputs": [],
   "source": [
    "label = []\n",
    "for filename in os.listdir(train_path)[:1000]:\n",
    "    label.append(filename[:2])"
   ]
  },
  {
   "cell_type": "code",
   "execution_count": 5,
   "metadata": {},
   "outputs": [],
   "source": [
    "gender = []\n",
    "for filename in os.listdir(train_path)[:1000]:\n",
    "    gender.append('male' if filename[3:4]=='m' else 'female')"
   ]
  },
  {
   "cell_type": "code",
   "execution_count": 6,
   "metadata": {},
   "outputs": [],
   "source": [
    "sound_type = []\n",
    "for filename in os.listdir(train_path)[:1000]:\n",
    "    sound_type.append('noise' if 'noise' in filename else 'pitch' if 'pitch' in filename else 'speed' if 'speed' in filename else 'notype')"
   ]
  },
  {
   "cell_type": "code",
   "execution_count": 7,
   "metadata": {},
   "outputs": [],
   "source": [
    "file = []\n",
    "for filename in os.listdir(train_path)[:1000]:\n",
    "    file.append(filename)"
   ]
  },
  {
   "cell_type": "code",
   "execution_count": 8,
   "metadata": {},
   "outputs": [],
   "source": [
    "series = []\n",
    "length = []\n",
    "for filename in os.listdir(train_path)[:1000]:\n",
    "    flac, samplerate = sf.read(train_path+filename)\n",
    "    series.append(flac)\n",
    "    length.append(samplerate)"
   ]
  },
  {
   "cell_type": "code",
   "execution_count": 9,
   "metadata": {},
   "outputs": [],
   "source": [
    "data = {'Gender':gender,\n",
    "        'filename':file,\n",
    "           'Sound_type': sound_type,\n",
    "       'languange':label,\n",
    "       'series': series,\n",
    "       'length': length}"
   ]
  },
  {
   "cell_type": "code",
   "execution_count": 10,
   "metadata": {},
   "outputs": [],
   "source": [
    "df = pd.DataFrame(data)"
   ]
  },
  {
   "cell_type": "code",
   "execution_count": 11,
   "metadata": {},
   "outputs": [
    {
     "data": {
      "text/plain": [
       "432"
      ]
     },
     "execution_count": 11,
     "metadata": {},
     "output_type": "execute_result"
    }
   ],
   "source": [
    "len(df)"
   ]
  },
  {
   "cell_type": "code",
   "execution_count": 12,
   "metadata": {},
   "outputs": [],
   "source": [
    "df = pd.DataFrame(data)"
   ]
  },
  {
   "cell_type": "code",
   "execution_count": 13,
   "metadata": {},
   "outputs": [
    {
     "data": {
      "text/html": [
       "<div>\n",
       "<style scoped>\n",
       "    .dataframe tbody tr th:only-of-type {\n",
       "        vertical-align: middle;\n",
       "    }\n",
       "\n",
       "    .dataframe tbody tr th {\n",
       "        vertical-align: top;\n",
       "    }\n",
       "\n",
       "    .dataframe thead th {\n",
       "        text-align: right;\n",
       "    }\n",
       "</style>\n",
       "<table border=\"1\" class=\"dataframe\">\n",
       "  <thead>\n",
       "    <tr style=\"text-align: right;\">\n",
       "      <th></th>\n",
       "      <th>Gender</th>\n",
       "      <th>filename</th>\n",
       "      <th>Sound_type</th>\n",
       "      <th>languange</th>\n",
       "      <th>series</th>\n",
       "      <th>length</th>\n",
       "    </tr>\n",
       "  </thead>\n",
       "  <tbody>\n",
       "    <tr>\n",
       "      <th>0</th>\n",
       "      <td>female</td>\n",
       "      <td>de_f_63f5b79c76cf5a1a4bbd1c40f54b166e.fragment...</td>\n",
       "      <td>notype</td>\n",
       "      <td>de</td>\n",
       "      <td>[0.00274658203125, 0.004486083984375, 0.010803...</td>\n",
       "      <td>22050</td>\n",
       "    </tr>\n",
       "    <tr>\n",
       "      <th>1</th>\n",
       "      <td>female</td>\n",
       "      <td>de_f_63f5b79c76cf5a1a4bbd1c40f54b166e.fragment...</td>\n",
       "      <td>notype</td>\n",
       "      <td>de</td>\n",
       "      <td>[0.07891845703125, 0.09246826171875, 0.1100769...</td>\n",
       "      <td>22050</td>\n",
       "    </tr>\n",
       "    <tr>\n",
       "      <th>2</th>\n",
       "      <td>female</td>\n",
       "      <td>de_f_63f5b79c76cf5a1a4bbd1c40f54b166e.fragment...</td>\n",
       "      <td>notype</td>\n",
       "      <td>de</td>\n",
       "      <td>[-0.007354736328125, -0.007415771484375, -0.00...</td>\n",
       "      <td>22050</td>\n",
       "    </tr>\n",
       "    <tr>\n",
       "      <th>3</th>\n",
       "      <td>female</td>\n",
       "      <td>de_f_63f5b79c76cf5a1a4bbd1c40f54b166e.fragment...</td>\n",
       "      <td>notype</td>\n",
       "      <td>de</td>\n",
       "      <td>[0.038848876953125, 0.04473876953125, 0.055511...</td>\n",
       "      <td>22050</td>\n",
       "    </tr>\n",
       "    <tr>\n",
       "      <th>4</th>\n",
       "      <td>female</td>\n",
       "      <td>de_f_63f5b79c76cf5a1a4bbd1c40f54b166e.fragment...</td>\n",
       "      <td>notype</td>\n",
       "      <td>de</td>\n",
       "      <td>[0.000335693359375, -0.000244140625, 0.0032043...</td>\n",
       "      <td>22050</td>\n",
       "    </tr>\n",
       "  </tbody>\n",
       "</table>\n",
       "</div>"
      ],
      "text/plain": [
       "   Gender                                           filename Sound_type  \\\n",
       "0  female  de_f_63f5b79c76cf5a1a4bbd1c40f54b166e.fragment...     notype   \n",
       "1  female  de_f_63f5b79c76cf5a1a4bbd1c40f54b166e.fragment...     notype   \n",
       "2  female  de_f_63f5b79c76cf5a1a4bbd1c40f54b166e.fragment...     notype   \n",
       "3  female  de_f_63f5b79c76cf5a1a4bbd1c40f54b166e.fragment...     notype   \n",
       "4  female  de_f_63f5b79c76cf5a1a4bbd1c40f54b166e.fragment...     notype   \n",
       "\n",
       "  languange                                             series  length  \n",
       "0        de  [0.00274658203125, 0.004486083984375, 0.010803...   22050  \n",
       "1        de  [0.07891845703125, 0.09246826171875, 0.1100769...   22050  \n",
       "2        de  [-0.007354736328125, -0.007415771484375, -0.00...   22050  \n",
       "3        de  [0.038848876953125, 0.04473876953125, 0.055511...   22050  \n",
       "4        de  [0.000335693359375, -0.000244140625, 0.0032043...   22050  "
      ]
     },
     "execution_count": 13,
     "metadata": {},
     "output_type": "execute_result"
    }
   ],
   "source": [
    "df.head()"
   ]
  },
  {
   "cell_type": "code",
   "execution_count": 14,
   "metadata": {},
   "outputs": [],
   "source": [
    "x_train = df['series']\n",
    "y_train = df['languange']\n",
    "b = df['languange']"
   ]
  },
  {
   "cell_type": "code",
   "execution_count": 15,
   "metadata": {},
   "outputs": [],
   "source": [
    "x_train = np.array(x_train)"
   ]
  },
  {
   "cell_type": "code",
   "execution_count": 16,
   "metadata": {
    "scrolled": true
   },
   "outputs": [],
   "source": [
    "a = np.zeros((len(x_train), 1000))"
   ]
  },
  {
   "cell_type": "code",
   "execution_count": 17,
   "metadata": {},
   "outputs": [],
   "source": [
    "for i in range(len(a)):\n",
    "    a[i] = x_train[i][:1000]"
   ]
  },
  {
   "cell_type": "code",
   "execution_count": 18,
   "metadata": {},
   "outputs": [
    {
     "data": {
      "text/plain": [
       "array([[ 0.00274658,  0.00448608,  0.01080322, ..., -0.00057983,\n",
       "         0.02496338,  0.05450439],\n",
       "       [ 0.07891846,  0.09246826,  0.1100769 , ..., -0.07400513,\n",
       "        -0.05255127, -0.01953125],\n",
       "       [-0.00735474, -0.00741577, -0.00924683, ..., -0.00418091,\n",
       "         0.00204468,  0.01089478],\n",
       "       ...,\n",
       "       [ 0.00598145,  0.00262451, -0.0020752 , ..., -0.01837158,\n",
       "        -0.02456665, -0.02523804],\n",
       "       [ 0.02252197,  0.01473999,  0.01016235, ..., -0.16891479,\n",
       "        -0.18099976, -0.19085693],\n",
       "       [ 0.02716064,  0.02130127,  0.01925659, ..., -0.09466553,\n",
       "        -0.09857178, -0.0954895 ]])"
      ]
     },
     "execution_count": 18,
     "metadata": {},
     "output_type": "execute_result"
    }
   ],
   "source": [
    "a"
   ]
  },
  {
   "cell_type": "code",
   "execution_count": 19,
   "metadata": {
    "scrolled": true
   },
   "outputs": [
    {
     "data": {
      "text/plain": [
       "432"
      ]
     },
     "execution_count": 19,
     "metadata": {},
     "output_type": "execute_result"
    }
   ],
   "source": [
    "len(x_train)"
   ]
  },
  {
   "cell_type": "code",
   "execution_count": 20,
   "metadata": {
    "scrolled": true
   },
   "outputs": [
    {
     "data": {
      "text/plain": [
       "array([[1, 0, 0],\n",
       "       [1, 0, 0],\n",
       "       [1, 0, 0],\n",
       "       ...,\n",
       "       [0, 0, 1],\n",
       "       [0, 0, 1],\n",
       "       [0, 0, 1]])"
      ]
     },
     "execution_count": 20,
     "metadata": {},
     "output_type": "execute_result"
    }
   ],
   "source": [
    "from sklearn.preprocessing import LabelBinarizer\n",
    "\n",
    "label_binarizer = LabelBinarizer()\n",
    "label_binarizer.fit(y_train) # need to be global or remembered to use it later\n",
    "\n",
    "def one_hot_encode(x):\n",
    "    \"\"\"\n",
    "    One hot encode a list of sample labels. Return a one-hot encoded vector for each label.\n",
    "    : x: List of sample Labels\n",
    "    : return: Numpy array of one-hot encoded labels\n",
    "    \"\"\"\n",
    "    return label_binarizer.transform(x)\n",
    "\n",
    "y_train = one_hot_encode(y_train)\n",
    "y_train"
   ]
  },
  {
   "cell_type": "code",
   "execution_count": 21,
   "metadata": {},
   "outputs": [
    {
     "data": {
      "text/plain": [
       "0      de\n",
       "1      de\n",
       "2      de\n",
       "3      de\n",
       "4      de\n",
       "5      de\n",
       "6      de\n",
       "7      de\n",
       "8      de\n",
       "9      de\n",
       "10     de\n",
       "11     de\n",
       "12     de\n",
       "13     de\n",
       "14     de\n",
       "15     de\n",
       "16     de\n",
       "17     de\n",
       "18     de\n",
       "19     de\n",
       "20     de\n",
       "21     de\n",
       "22     de\n",
       "23     de\n",
       "24     de\n",
       "25     de\n",
       "26     de\n",
       "27     de\n",
       "28     de\n",
       "29     de\n",
       "       ..\n",
       "402    es\n",
       "403    es\n",
       "404    es\n",
       "405    es\n",
       "406    es\n",
       "407    es\n",
       "408    es\n",
       "409    es\n",
       "410    es\n",
       "411    es\n",
       "412    es\n",
       "413    es\n",
       "414    es\n",
       "415    es\n",
       "416    es\n",
       "417    es\n",
       "418    es\n",
       "419    es\n",
       "420    es\n",
       "421    es\n",
       "422    es\n",
       "423    es\n",
       "424    es\n",
       "425    es\n",
       "426    es\n",
       "427    es\n",
       "428    es\n",
       "429    es\n",
       "430    es\n",
       "431    es\n",
       "Name: languange, Length: 432, dtype: object"
      ]
     },
     "execution_count": 21,
     "metadata": {},
     "output_type": "execute_result"
    }
   ],
   "source": [
    "b"
   ]
  },
  {
   "cell_type": "code",
   "execution_count": 22,
   "metadata": {},
   "outputs": [
    {
     "data": {
      "text/plain": [
       "432"
      ]
     },
     "execution_count": 22,
     "metadata": {},
     "output_type": "execute_result"
    }
   ],
   "source": [
    "len(y_train)"
   ]
  },
  {
   "cell_type": "code",
   "execution_count": 23,
   "metadata": {},
   "outputs": [
    {
     "name": "stdout",
     "output_type": "stream",
     "text": [
      "['de' 'es' 'de' 'en' 'de' 'de' 'de' 'de' 'de' 'de' 'de' 'de' 'de' 'de'\n",
      " 'de' 'de' 'en' 'en' 'de' 'de' 'en' 'de' 'en' 'de' 'de' 'de' 'de' 'de'\n",
      " 'de' 'en' 'en' 'de' 'de' 'de' 'de' 'en' 'en' 'de' 'de' 'en' 'de' 'de'\n",
      " 'de' 'de' 'de' 'de' 'es' 'de' 'es' 'de' 'de' 'de' 'de' 'de' 'de' 'de'\n",
      " 'es' 'de' 'es' 'de' 'de' 'de' 'de' 'de' 'de' 'de' 'de' 'en' 'es' 'de'\n",
      " 'de' 'de' 'de' 'de' 'de' 'es' 'de' 'en' 'de' 'de' 'de' 'de' 'de' 'de'\n",
      " 'en' 'de' 'de' 'es' 'de' 'de' 'en' 'de' 'de' 'de' 'de' 'de' 'en' 'en'\n",
      " 'de' 'de' 'de' 'de' 'de' 'de' 'de' 'en' 'es' 'de' 'de' 'de' 'de' 'en'\n",
      " 'de' 'de' 'de' 'es' 'de' 'de' 'de' 'de' 'es' 'de' 'de' 'de' 'de' 'es'\n",
      " 'es' 'de' 'de' 'de' 'en' 'en' 'de' 'de' 'de' 'de' 'de' 'de' 'es' 'de'\n",
      " 'en' 'de' 'de' 'es' 'de' 'de' 'en' 'en' 'de' 'de' 'de' 'en' 'de' 'en'\n",
      " 'en' 'de' 'de' 'en' 'de' 'de' 'en' 'es' 'en' 'en' 'de' 'de' 'de' 'de'\n",
      " 'de' 'en' 'de' 'de' 'de' 'de' 'de' 'de' 'de' 'en' 'de' 'de' 'de' 'en'\n",
      " 'de' 'en' 'de' 'de' 'de' 'de' 'en' 'de' 'en' 'en' 'en' 'en' 'de' 'de'\n",
      " 'en' 'en' 'de' 'de' 'de' 'de' 'de' 'en' 'de' 'de' 'en' 'de' 'de' 'de'\n",
      " 'de' 'de' 'de' 'en' 'de' 'en' 'de' 'de' 'es' 'de' 'de' 'en' 'es' 'de'\n",
      " 'de' 'de' 'de' 'en' 'de' 'en' 'en' 'en' 'en' 'de' 'de' 'de' 'es' 'de'\n",
      " 'en' 'en' 'en' 'es' 'de' 'en' 'en' 'en' 'en' 'de' 'es' 'en' 'en' 'de'\n",
      " 'de' 'de' 'en' 'en' 'de' 'en' 'de' 'en' 'de' 'de' 'en' 'de' 'de' 'de'\n",
      " 'es' 'en' 'en' 'de' 'es' 'es' 'es' 'de' 'de' 'en' 'de' 'en' 'de' 'en'\n",
      " 'es' 'en' 'de' 'en' 'en' 'en' 'en' 'de' 'es' 'es' 'es' 'es' 'es' 'es'\n",
      " 'es' 'es' 'es' 'es' 'es' 'es' 'es' 'es' 'es' 'es' 'es' 'es' 'es' 'es'\n",
      " 'es' 'es' 'es' 'es' 'es' 'es' 'es' 'es' 'es' 'es' 'es' 'es' 'es' 'es'\n",
      " 'es' 'es' 'es' 'es' 'es' 'es' 'es' 'es' 'es' 'es' 'es' 'es' 'es' 'es'\n",
      " 'es' 'es' 'es' 'es' 'es' 'es' 'es' 'es' 'es' 'es' 'es' 'es' 'es' 'es'\n",
      " 'es' 'es' 'es' 'es' 'es' 'es' 'es' 'es' 'es' 'es' 'en' 'en' 'de' 'de'\n",
      " 'de' 'de' 'de' 'en' 'de' 'de' 'de' 'de' 'de' 'en' 'de' 'es' 'de' 'de'\n",
      " 'de' 'de' 'en' 'en' 'de' 'de' 'de' 'en' 'de' 'de' 'de' 'en' 'de' 'de'\n",
      " 'de' 'es' 'de' 'de' 'de' 'de' 'en' 'de' 'en' 'de' 'de' 'de' 'de' 'de'\n",
      " 'de' 'en' 'es' 'en' 'de' 'de' 'de' 'de' 'de' 'es' 'es' 'de' 'de' 'en'\n",
      " 'en' 'de' 'de' 'de' 'de' 'de' 'de' 'de' 'de' 'es' 'es' 'en']\n"
     ]
    },
    {
     "data": {
      "text/plain": [
       "0.5578703703703703"
      ]
     },
     "execution_count": 23,
     "metadata": {},
     "output_type": "execute_result"
    }
   ],
   "source": [
    "from sklearn.naive_bayes import GaussianNB\n",
    "clf = GaussianNB()\n",
    "clf.fit(a, b)\n",
    "\n",
    "print(clf.predict(a))\n",
    "clf.score(a, b)"
   ]
  },
  {
   "cell_type": "code",
   "execution_count": 24,
   "metadata": {
    "scrolled": true
   },
   "outputs": [
    {
     "name": "stdout",
     "output_type": "stream",
     "text": [
      "[[ 0.00274658  0.00448608  0.01080322 ... -0.00057983  0.02496338\n",
      "   0.05450439]\n",
      " [ 0.07891846  0.09246826  0.1100769  ... -0.07400513 -0.05255127\n",
      "  -0.01953125]\n",
      " [-0.00735474 -0.00741577 -0.00924683 ... -0.00418091  0.00204468\n",
      "   0.01089478]\n",
      " ...\n",
      " [ 0.00598145  0.00262451 -0.0020752  ... -0.01837158 -0.02456665\n",
      "  -0.02523804]\n",
      " [ 0.02252197  0.01473999  0.01016235 ... -0.16891479 -0.18099976\n",
      "  -0.19085693]\n",
      " [ 0.02716064  0.02130127  0.01925659 ... -0.09466553 -0.09857178\n",
      "  -0.0954895 ]]\n",
      "[[1 0 0]\n",
      " [1 0 0]\n",
      " [1 0 0]\n",
      " ...\n",
      " [0 0 1]\n",
      " [0 0 1]\n",
      " [0 0 1]]\n"
     ]
    },
    {
     "data": {
      "text/plain": [
       "0.8055555555555556"
      ]
     },
     "execution_count": 24,
     "metadata": {},
     "output_type": "execute_result"
    }
   ],
   "source": [
    "from sklearn.neural_network import MLPClassifier\n",
    "clf = MLPClassifier(solver='lbfgs', alpha=1e-5,\n",
    "                    hidden_layer_sizes=(5), random_state=1)\n",
    "\n",
    "clf.fit(a, y_train)\n",
    "print(a)\n",
    "print(clf.predict(a))\n",
    "clf.score(a, y_train)"
   ]
  },
  {
   "cell_type": "code",
   "execution_count": null,
   "metadata": {},
   "outputs": [],
   "source": []
  },
  {
   "cell_type": "code",
   "execution_count": 32,
   "metadata": {
    "scrolled": true
   },
   "outputs": [
    {
     "data": {
      "text/plain": [
       "array([[1, 0, 0],\n",
       "       [1, 0, 0],\n",
       "       [1, 0, 0],\n",
       "       ...,\n",
       "       [0, 0, 1],\n",
       "       [0, 0, 1],\n",
       "       [0, 0, 1]])"
      ]
     },
     "execution_count": 32,
     "metadata": {},
     "output_type": "execute_result"
    }
   ],
   "source": [
    "y_train"
   ]
  },
  {
   "cell_type": "code",
   "execution_count": 43,
   "metadata": {},
   "outputs": [
    {
     "name": "stdout",
     "output_type": "stream",
     "text": [
      "432 1000\n"
     ]
    }
   ],
   "source": [
    "from tensorflow.keras import Sequential, models\n",
    "from tensorflow.keras.layers import LSTM, Dense, Flatten\n",
    "from tensorflow.keras.metrics import binary_accuracy\n",
    "\n",
    "def train(x, y, epoch=20, hidden=1):\n",
    "    model = Sequential()\n",
    "    model.add(LSTM(units=hidden, input_shape=(x.shape[1], 1)))\n",
    "    model.add(Dense(3, activation='softmax'))\n",
    "    model.compile(loss='mean_squared_error', optimizer='adam')\n",
    "    print(model.summary())\n",
    "    model.fit(x, y, epochs=epoch, batch_size=100, verbose=1)\n",
    "    return model\n",
    "\n",
    "\n",
    "def evaluate(x, y, model):\n",
    "    mse = model.evaluate(x, y, verbose=0)\n",
    "    return mse\n",
    "\n",
    "\n",
    "def save_model(model, s):\n",
    "    model_json = model.to_json()\n",
    "    with open(\"model/%s.json\" % s, \"w\") as json_file:\n",
    "        json_file.write(model_json)\n",
    "    model.save_weights(\"model/%s.h5\" % s)\n",
    "\n",
    "\n",
    "def load_model(s):\n",
    "    model_json = open('model/%s.json' % s, 'r').read()\n",
    "    model = models.model_from_json(model_json)\n",
    "    model.load_weights(\"model/%s.h5\" % s)\n",
    "    return model\n",
    "\n",
    "\n",
    "def predict(x, model):\n",
    "    return model.predict(x)\n",
    "\n",
    "print(a.shape[0], a.shape[1])"
   ]
  },
  {
   "cell_type": "code",
   "execution_count": 44,
   "metadata": {
    "scrolled": false
   },
   "outputs": [
    {
     "name": "stdout",
     "output_type": "stream",
     "text": [
      "_________________________________________________________________\n",
      "Layer (type)                 Output Shape              Param #   \n",
      "=================================================================\n",
      "lstm_5 (LSTM)                (None, 1)                 12        \n",
      "_________________________________________________________________\n",
      "dense_5 (Dense)              (None, 3)                 6         \n",
      "=================================================================\n",
      "Total params: 18\n",
      "Trainable params: 18\n",
      "Non-trainable params: 0\n",
      "_________________________________________________________________\n",
      "None\n",
      "Epoch 1/100\n",
      "432/432 [==============================] - 8s 18ms/step - loss: 0.2233\n",
      "Epoch 2/100\n",
      "432/432 [==============================] - 6s 14ms/step - loss: 0.2233\n",
      "Epoch 3/100\n",
      "432/432 [==============================] - 6s 14ms/step - loss: 0.2232\n",
      "Epoch 4/100\n",
      "432/432 [==============================] - 6s 14ms/step - loss: 0.2232\n",
      "Epoch 5/100\n",
      "200/432 [============>.................] - ETA: 2s - loss: 0.2232"
     ]
    },
    {
     "ename": "KeyboardInterrupt",
     "evalue": "",
     "output_type": "error",
     "traceback": [
      "\u001b[0;31m---------------------------------------------------------------------------\u001b[0m",
      "\u001b[0;31mKeyboardInterrupt\u001b[0m                         Traceback (most recent call last)",
      "\u001b[0;32m<ipython-input-44-b16b2f704077>\u001b[0m in \u001b[0;36m<module>\u001b[0;34m()\u001b[0m\n\u001b[1;32m      1\u001b[0m \u001b[0ma\u001b[0m \u001b[0;34m=\u001b[0m \u001b[0ma\u001b[0m\u001b[0;34m.\u001b[0m\u001b[0mreshape\u001b[0m\u001b[0;34m(\u001b[0m\u001b[0;34m(\u001b[0m\u001b[0ma\u001b[0m\u001b[0;34m.\u001b[0m\u001b[0mshape\u001b[0m\u001b[0;34m[\u001b[0m\u001b[0;36m0\u001b[0m\u001b[0;34m]\u001b[0m\u001b[0;34m,\u001b[0m \u001b[0ma\u001b[0m\u001b[0;34m.\u001b[0m\u001b[0mshape\u001b[0m\u001b[0;34m[\u001b[0m\u001b[0;36m1\u001b[0m\u001b[0;34m]\u001b[0m\u001b[0;34m,\u001b[0m \u001b[0;36m1\u001b[0m\u001b[0;34m)\u001b[0m\u001b[0;34m)\u001b[0m\u001b[0;34m\u001b[0m\u001b[0m\n\u001b[0;32m----> 2\u001b[0;31m \u001b[0mmodel\u001b[0m \u001b[0;34m=\u001b[0m \u001b[0mtrain\u001b[0m\u001b[0;34m(\u001b[0m\u001b[0ma\u001b[0m\u001b[0;34m,\u001b[0m \u001b[0my_train\u001b[0m\u001b[0;34m,\u001b[0m \u001b[0mepoch\u001b[0m\u001b[0;34m=\u001b[0m\u001b[0;36m100\u001b[0m\u001b[0;34m)\u001b[0m\u001b[0;34m\u001b[0m\u001b[0m\n\u001b[0m\u001b[1;32m      3\u001b[0m \u001b[0mprint\u001b[0m\u001b[0;34m(\u001b[0m\u001b[0;34m'MSE data latih : {}'\u001b[0m\u001b[0;34m.\u001b[0m\u001b[0mformat\u001b[0m\u001b[0;34m(\u001b[0m\u001b[0mlstm\u001b[0m\u001b[0;34m.\u001b[0m\u001b[0mevaluate\u001b[0m\u001b[0;34m(\u001b[0m\u001b[0ma\u001b[0m\u001b[0;34m,\u001b[0m \u001b[0my_train\u001b[0m\u001b[0;34m,\u001b[0m \u001b[0mmodel\u001b[0m\u001b[0;34m)\u001b[0m\u001b[0;34m)\u001b[0m\u001b[0;34m)\u001b[0m\u001b[0;34m\u001b[0m\u001b[0m\n\u001b[1;32m      4\u001b[0m \u001b[0mlstm\u001b[0m\u001b[0;34m.\u001b[0m\u001b[0msave_model\u001b[0m\u001b[0;34m(\u001b[0m\u001b[0mmodel\u001b[0m\u001b[0;34m,\u001b[0m \u001b[0;34m'model'\u001b[0m\u001b[0;34m)\u001b[0m\u001b[0;34m\u001b[0m\u001b[0m\n",
      "\u001b[0;32m<ipython-input-43-0d4b92613b28>\u001b[0m in \u001b[0;36mtrain\u001b[0;34m(x, y, epoch, hidden)\u001b[0m\n\u001b[1;32m      9\u001b[0m     \u001b[0mmodel\u001b[0m\u001b[0;34m.\u001b[0m\u001b[0mcompile\u001b[0m\u001b[0;34m(\u001b[0m\u001b[0mloss\u001b[0m\u001b[0;34m=\u001b[0m\u001b[0;34m'mean_squared_error'\u001b[0m\u001b[0;34m,\u001b[0m \u001b[0moptimizer\u001b[0m\u001b[0;34m=\u001b[0m\u001b[0;34m'adam'\u001b[0m\u001b[0;34m)\u001b[0m\u001b[0;34m\u001b[0m\u001b[0m\n\u001b[1;32m     10\u001b[0m     \u001b[0mprint\u001b[0m\u001b[0;34m(\u001b[0m\u001b[0mmodel\u001b[0m\u001b[0;34m.\u001b[0m\u001b[0msummary\u001b[0m\u001b[0;34m(\u001b[0m\u001b[0;34m)\u001b[0m\u001b[0;34m)\u001b[0m\u001b[0;34m\u001b[0m\u001b[0m\n\u001b[0;32m---> 11\u001b[0;31m     \u001b[0mmodel\u001b[0m\u001b[0;34m.\u001b[0m\u001b[0mfit\u001b[0m\u001b[0;34m(\u001b[0m\u001b[0mx\u001b[0m\u001b[0;34m,\u001b[0m \u001b[0my\u001b[0m\u001b[0;34m,\u001b[0m \u001b[0mepochs\u001b[0m\u001b[0;34m=\u001b[0m\u001b[0mepoch\u001b[0m\u001b[0;34m,\u001b[0m \u001b[0mbatch_size\u001b[0m\u001b[0;34m=\u001b[0m\u001b[0;36m100\u001b[0m\u001b[0;34m,\u001b[0m \u001b[0mverbose\u001b[0m\u001b[0;34m=\u001b[0m\u001b[0;36m1\u001b[0m\u001b[0;34m)\u001b[0m\u001b[0;34m\u001b[0m\u001b[0m\n\u001b[0m\u001b[1;32m     12\u001b[0m     \u001b[0;32mreturn\u001b[0m \u001b[0mmodel\u001b[0m\u001b[0;34m\u001b[0m\u001b[0m\n\u001b[1;32m     13\u001b[0m \u001b[0;34m\u001b[0m\u001b[0m\n",
      "\u001b[0;32m~/.conda/envs/Anaconda3.6/lib/python3.6/site-packages/tensorflow/python/keras/engine/training.py\u001b[0m in \u001b[0;36mfit\u001b[0;34m(self, x, y, batch_size, epochs, verbose, callbacks, validation_split, validation_data, shuffle, class_weight, sample_weight, initial_epoch, steps_per_epoch, validation_steps, **kwargs)\u001b[0m\n\u001b[1;32m   1346\u001b[0m           \u001b[0minitial_epoch\u001b[0m\u001b[0;34m=\u001b[0m\u001b[0minitial_epoch\u001b[0m\u001b[0;34m,\u001b[0m\u001b[0;34m\u001b[0m\u001b[0m\n\u001b[1;32m   1347\u001b[0m           \u001b[0msteps_per_epoch\u001b[0m\u001b[0;34m=\u001b[0m\u001b[0msteps_per_epoch\u001b[0m\u001b[0;34m,\u001b[0m\u001b[0;34m\u001b[0m\u001b[0m\n\u001b[0;32m-> 1348\u001b[0;31m           validation_steps=validation_steps)\n\u001b[0m\u001b[1;32m   1349\u001b[0m \u001b[0;34m\u001b[0m\u001b[0m\n\u001b[1;32m   1350\u001b[0m   def evaluate(self,\n",
      "\u001b[0;32m~/.conda/envs/Anaconda3.6/lib/python3.6/site-packages/tensorflow/python/keras/engine/training_arrays.py\u001b[0m in \u001b[0;36mfit_loop\u001b[0;34m(model, inputs, targets, sample_weights, batch_size, epochs, verbose, callbacks, val_inputs, val_targets, val_sample_weights, shuffle, callback_metrics, initial_epoch, steps_per_epoch, validation_steps)\u001b[0m\n\u001b[1;32m    251\u001b[0m           \u001b[0mins_batch\u001b[0m\u001b[0;34m[\u001b[0m\u001b[0mi\u001b[0m\u001b[0;34m]\u001b[0m \u001b[0;34m=\u001b[0m \u001b[0mins_batch\u001b[0m\u001b[0;34m[\u001b[0m\u001b[0mi\u001b[0m\u001b[0;34m]\u001b[0m\u001b[0;34m.\u001b[0m\u001b[0mtoarray\u001b[0m\u001b[0;34m(\u001b[0m\u001b[0;34m)\u001b[0m\u001b[0;34m\u001b[0m\u001b[0m\n\u001b[1;32m    252\u001b[0m \u001b[0;34m\u001b[0m\u001b[0m\n\u001b[0;32m--> 253\u001b[0;31m         \u001b[0mouts\u001b[0m \u001b[0;34m=\u001b[0m \u001b[0mf\u001b[0m\u001b[0;34m(\u001b[0m\u001b[0mins_batch\u001b[0m\u001b[0;34m)\u001b[0m\u001b[0;34m\u001b[0m\u001b[0m\n\u001b[0m\u001b[1;32m    254\u001b[0m         \u001b[0;32mif\u001b[0m \u001b[0;32mnot\u001b[0m \u001b[0misinstance\u001b[0m\u001b[0;34m(\u001b[0m\u001b[0mouts\u001b[0m\u001b[0;34m,\u001b[0m \u001b[0mlist\u001b[0m\u001b[0;34m)\u001b[0m\u001b[0;34m:\u001b[0m\u001b[0;34m\u001b[0m\u001b[0m\n\u001b[1;32m    255\u001b[0m           \u001b[0mouts\u001b[0m \u001b[0;34m=\u001b[0m \u001b[0;34m[\u001b[0m\u001b[0mouts\u001b[0m\u001b[0;34m]\u001b[0m\u001b[0;34m\u001b[0m\u001b[0m\n",
      "\u001b[0;32m~/.conda/envs/Anaconda3.6/lib/python3.6/site-packages/tensorflow/python/keras/backend.py\u001b[0m in \u001b[0;36m__call__\u001b[0;34m(self, inputs)\u001b[0m\n\u001b[1;32m   2895\u001b[0m       \u001b[0mself\u001b[0m\u001b[0;34m.\u001b[0m\u001b[0m_make_callable\u001b[0m\u001b[0;34m(\u001b[0m\u001b[0mfeed_arrays\u001b[0m\u001b[0;34m,\u001b[0m \u001b[0mfeed_symbols\u001b[0m\u001b[0;34m,\u001b[0m \u001b[0msymbol_vals\u001b[0m\u001b[0;34m,\u001b[0m \u001b[0msession\u001b[0m\u001b[0;34m)\u001b[0m\u001b[0;34m\u001b[0m\u001b[0m\n\u001b[1;32m   2896\u001b[0m \u001b[0;34m\u001b[0m\u001b[0m\n\u001b[0;32m-> 2897\u001b[0;31m     \u001b[0mfetched\u001b[0m \u001b[0;34m=\u001b[0m \u001b[0mself\u001b[0m\u001b[0;34m.\u001b[0m\u001b[0m_callable_fn\u001b[0m\u001b[0;34m(\u001b[0m\u001b[0;34m*\u001b[0m\u001b[0marray_vals\u001b[0m\u001b[0;34m)\u001b[0m\u001b[0;34m\u001b[0m\u001b[0m\n\u001b[0m\u001b[1;32m   2898\u001b[0m     \u001b[0;32mreturn\u001b[0m \u001b[0mfetched\u001b[0m\u001b[0;34m[\u001b[0m\u001b[0;34m:\u001b[0m\u001b[0mlen\u001b[0m\u001b[0;34m(\u001b[0m\u001b[0mself\u001b[0m\u001b[0;34m.\u001b[0m\u001b[0moutputs\u001b[0m\u001b[0;34m)\u001b[0m\u001b[0;34m]\u001b[0m\u001b[0;34m\u001b[0m\u001b[0m\n\u001b[1;32m   2899\u001b[0m \u001b[0;34m\u001b[0m\u001b[0m\n",
      "\u001b[0;32m~/.conda/envs/Anaconda3.6/lib/python3.6/site-packages/tensorflow/python/client/session.py\u001b[0m in \u001b[0;36m__call__\u001b[0;34m(self, *args)\u001b[0m\n\u001b[1;32m   1449\u001b[0m         \u001b[0;32mif\u001b[0m \u001b[0mself\u001b[0m\u001b[0;34m.\u001b[0m\u001b[0m_session\u001b[0m\u001b[0;34m.\u001b[0m\u001b[0m_created_with_new_api\u001b[0m\u001b[0;34m:\u001b[0m\u001b[0;34m\u001b[0m\u001b[0m\n\u001b[1;32m   1450\u001b[0m           return tf_session.TF_SessionRunCallable(\n\u001b[0;32m-> 1451\u001b[0;31m               self._session._session, self._handle, args, status, None)\n\u001b[0m\u001b[1;32m   1452\u001b[0m         \u001b[0;32melse\u001b[0m\u001b[0;34m:\u001b[0m\u001b[0;34m\u001b[0m\u001b[0m\n\u001b[1;32m   1453\u001b[0m           return tf_session.TF_DeprecatedSessionRunCallable(\n",
      "\u001b[0;31mKeyboardInterrupt\u001b[0m: "
     ]
    }
   ],
   "source": [
    "a = a.reshape((a.shape[0], a.shape[1], 1))\n",
    "model = train(a, y_train, epoch=100)\n",
    "print('MSE data latih : {}'.format(lstm.evaluate(a, y_train, model)))\n",
    "lstm.save_model(model, 'model')\n"
   ]
  },
  {
   "cell_type": "code",
   "execution_count": null,
   "metadata": {},
   "outputs": [],
   "source": [
    "df_male_en = df[(df['Gender']=='male') & (df['languange']=='en')].reset_index(drop=True)\n",
    "df_male_es = df[(df['Gender']=='male') & (df['languange']=='es')].reset_index(drop=True)\n",
    "df_male_de = df[(df['Gender']=='male') & (df['languange']=='de')].reset_index(drop=True)\n",
    "df_female_en = df[(df['Gender']=='female') & (df['languange']=='en')].reset_index(drop=True)\n",
    "df_female_es = df[(df['Gender']=='female') & (df['languange']=='es')].reset_index(drop=True)\n",
    "df_female_de = df[(df['Gender']=='female') & (df['languange']=='de')].reset_index(drop=True)"
   ]
  },
  {
   "cell_type": "markdown",
   "metadata": {},
   "source": [
    "The first 40 male with english language waveform"
   ]
  },
  {
   "cell_type": "code",
   "execution_count": null,
   "metadata": {},
   "outputs": [],
   "source": [
    "fig, ax = plt.subplots(10, 4, figsize = (12, 16))\n",
    "for i in range(40):\n",
    "    ax[i//4, i%4].plot(df_male_en['series'][i])\n",
    "    ax[i//4, i%4].set_title(df_male_en['filename'][i][:-4], fontsize=5)\n",
    "    ax[i//4, i%4].get_xaxis().set_ticks([])"
   ]
  },
  {
   "cell_type": "markdown",
   "metadata": {},
   "source": [
    "The first 40 male with espanol language waveform"
   ]
  },
  {
   "cell_type": "code",
   "execution_count": null,
   "metadata": {},
   "outputs": [],
   "source": [
    "fig, ax = plt.subplots(10, 4, figsize = (12, 16))\n",
    "for i in range(40):\n",
    "    ax[i//4, i%4].plot(df_male_es['series'][i])\n",
    "    ax[i//4, i%4].set_title(df_male_es['filename'][i][:-4], fontsize=5)\n",
    "    ax[i//4, i%4].get_xaxis().set_ticks([])"
   ]
  },
  {
   "cell_type": "markdown",
   "metadata": {},
   "source": [
    "The first 40 male with deutch language waveform"
   ]
  },
  {
   "cell_type": "code",
   "execution_count": null,
   "metadata": {},
   "outputs": [],
   "source": [
    "fig, ax = plt.subplots(10, 4, figsize = (12, 16))\n",
    "for i in range(40):\n",
    "    ax[i//4, i%4].plot(df_male_de['series'][i])\n",
    "    ax[i//4, i%4].set_title(df_male_de['filename'][i][:-4], fontsize=5)\n",
    "    ax[i//4, i%4].get_xaxis().set_ticks([])"
   ]
  },
  {
   "cell_type": "markdown",
   "metadata": {},
   "source": [
    "The first 40 female with english language waveform"
   ]
  },
  {
   "cell_type": "code",
   "execution_count": null,
   "metadata": {},
   "outputs": [],
   "source": [
    "fig, ax = plt.subplots(10, 4, figsize = (12, 16))\n",
    "for i in range(40):\n",
    "    ax[i//4, i%4].plot(df_female_en['series'][i])\n",
    "    ax[i//4, i%4].set_title(df_female_en['filename'][i][:-4], fontsize=5)\n",
    "    ax[i//4, i%4].get_xaxis().set_ticks([])"
   ]
  },
  {
   "cell_type": "markdown",
   "metadata": {},
   "source": [
    "The first 40 female with espanol language waveform"
   ]
  },
  {
   "cell_type": "code",
   "execution_count": null,
   "metadata": {},
   "outputs": [],
   "source": [
    "fig, ax = plt.subplots(10, 4, figsize = (12, 16))\n",
    "for i in range(40):\n",
    "    ax[i//4, i%4].plot(df_female_es['series'][i])\n",
    "    ax[i//4, i%4].set_title(df_female_es['filename'][i][:-4], fontsize=5)\n",
    "    ax[i//4, i%4].get_xaxis().set_ticks([])"
   ]
  },
  {
   "cell_type": "markdown",
   "metadata": {},
   "source": [
    "The first 40 female with deutch language waveform"
   ]
  },
  {
   "cell_type": "code",
   "execution_count": null,
   "metadata": {},
   "outputs": [],
   "source": [
    "fig, ax = plt.subplots(10, 4, figsize = (12, 16))\n",
    "for i in range(40):\n",
    "    ax[i//4, i%4].plot(df_female_de['series'][i])\n",
    "    ax[i//4, i%4].set_title(df_female_de['filename'][i][:-4], fontsize=5)\n",
    "    ax[i//4, i%4].get_xaxis().set_ticks([])"
   ]
  },
  {
   "cell_type": "code",
   "execution_count": null,
   "metadata": {},
   "outputs": [],
   "source": []
  }
 ],
 "metadata": {
  "kernelspec": {
   "display_name": "Python 3",
   "language": "python",
   "name": "python3"
  },
  "language_info": {
   "codemirror_mode": {
    "name": "ipython",
    "version": 3
   },
   "file_extension": ".py",
   "mimetype": "text/x-python",
   "name": "python",
   "nbconvert_exporter": "python",
   "pygments_lexer": "ipython3",
   "version": "3.6.2"
  }
 },
 "nbformat": 4,
 "nbformat_minor": 1
}
